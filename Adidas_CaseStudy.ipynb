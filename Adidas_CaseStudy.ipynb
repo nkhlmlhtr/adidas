{
 "cells": [
  {
   "cell_type": "code",
   "execution_count": 39,
   "id": "d717eccb",
   "metadata": {},
   "outputs": [],
   "source": [
    "import pyspark"
   ]
  },
  {
   "cell_type": "code",
   "execution_count": 40,
   "id": "369cb048",
   "metadata": {},
   "outputs": [],
   "source": [
    "from pyspark.sql import SparkSession\n",
    "from pyspark.sql.functions import expr, count, to_timestamp, year, regexp_extract, coalesce, from_json, col, when, explode, length, size, lit, current_date, trim, dense_rank, regexp_replace, split, countDistinct, to_date, concat_ws\n",
    "from pyspark.sql.types import StructType, StructField, StringType\n",
    "from pyspark.sql.window import Window"
   ]
  },
  {
   "cell_type": "code",
   "execution_count": 41,
   "id": "b57c1272",
   "metadata": {},
   "outputs": [],
   "source": [
    "spark = SparkSession.builder.appName('Adidas_CaseStudy').master('local[*]').getOrCreate()"
   ]
  },
  {
   "cell_type": "code",
   "execution_count": 42,
   "id": "8cc1c6c6",
   "metadata": {},
   "outputs": [
    {
     "data": {
      "text/html": [
       "\n",
       "            <div>\n",
       "                <p><b>SparkSession - in-memory</b></p>\n",
       "                \n",
       "        <div>\n",
       "            <p><b>SparkContext</b></p>\n",
       "\n",
       "            <p><a href=\"http://192.168.1.102:4043\">Spark UI</a></p>\n",
       "\n",
       "            <dl>\n",
       "              <dt>Version</dt>\n",
       "                <dd><code>v3.1.2</code></dd>\n",
       "              <dt>Master</dt>\n",
       "                <dd><code>local[*]</code></dd>\n",
       "              <dt>AppName</dt>\n",
       "                <dd><code>Adidas_CaseStudy</code></dd>\n",
       "            </dl>\n",
       "        </div>\n",
       "        \n",
       "            </div>\n",
       "        "
      ],
      "text/plain": [
       "<pyspark.sql.session.SparkSession at 0x7f8cea50ceb8>"
      ]
     },
     "execution_count": 42,
     "metadata": {},
     "output_type": "execute_result"
    }
   ],
   "source": [
    "spark"
   ]
  },
  {
   "cell_type": "markdown",
   "id": "f27e1d41",
   "metadata": {},
   "source": [
    "Reading Dataset"
   ]
  },
  {
   "cell_type": "code",
   "execution_count": 43,
   "id": "bdbab825",
   "metadata": {},
   "outputs": [],
   "source": [
    "base_df = spark.read.json('/tmp/ol_cdump.json')"
   ]
  },
  {
   "cell_type": "markdown",
   "id": "adda90c0",
   "metadata": {},
   "source": [
    "Number of rows in raw data set"
   ]
  },
  {
   "cell_type": "code",
   "execution_count": 44,
   "id": "eb80ad18",
   "metadata": {},
   "outputs": [
    {
     "name": "stdout",
     "output_type": "stream",
     "text": [
      "Number of rows in raw data set : 148163\n"
     ]
    }
   ],
   "source": [
    "print('Number of rows in raw data set : '+ str(base_df.count()))"
   ]
  },
  {
   "cell_type": "markdown",
   "id": "908dc3ff",
   "metadata": {},
   "source": [
    "Schema"
   ]
  },
  {
   "cell_type": "code",
   "execution_count": 45,
   "id": "71f79127",
   "metadata": {
    "scrolled": true
   },
   "outputs": [
    {
     "name": "stdout",
     "output_type": "stream",
     "text": [
      "root\n",
      " |-- alternate_names: array (nullable = true)\n",
      " |    |-- element: string (containsNull = true)\n",
      " |-- authors: array (nullable = true)\n",
      " |    |-- element: struct (containsNull = true)\n",
      " |    |    |-- author: struct (nullable = true)\n",
      " |    |    |    |-- key: string (nullable = true)\n",
      " |    |    |-- key: string (nullable = true)\n",
      " |    |    |-- type: string (nullable = true)\n",
      " |-- bio: string (nullable = true)\n",
      " |-- birth_date: string (nullable = true)\n",
      " |-- by_statement: string (nullable = true)\n",
      " |-- contributions: array (nullable = true)\n",
      " |    |-- element: string (containsNull = true)\n",
      " |-- contributors: array (nullable = true)\n",
      " |    |-- element: struct (containsNull = true)\n",
      " |    |    |-- name: string (nullable = true)\n",
      " |    |    |-- role: string (nullable = true)\n",
      " |-- copyright_date: string (nullable = true)\n",
      " |-- covers: array (nullable = true)\n",
      " |    |-- element: long (containsNull = true)\n",
      " |-- created: struct (nullable = true)\n",
      " |    |-- type: string (nullable = true)\n",
      " |    |-- value: string (nullable = true)\n",
      " |-- death_date: string (nullable = true)\n",
      " |-- description: string (nullable = true)\n",
      " |-- dewey_decimal_class: array (nullable = true)\n",
      " |    |-- element: string (containsNull = true)\n",
      " |-- dewey_number: array (nullable = true)\n",
      " |    |-- element: string (containsNull = true)\n",
      " |-- download_url: array (nullable = true)\n",
      " |    |-- element: string (containsNull = true)\n",
      " |-- edition_name: string (nullable = true)\n",
      " |-- excerpts: array (nullable = true)\n",
      " |    |-- element: struct (containsNull = true)\n",
      " |    |    |-- excerpt: struct (nullable = true)\n",
      " |    |    |    |-- type: string (nullable = true)\n",
      " |    |    |    |-- value: string (nullable = true)\n",
      " |    |    |-- page: string (nullable = true)\n",
      " |-- first_publish_date: string (nullable = true)\n",
      " |-- first_sentence: string (nullable = true)\n",
      " |-- full_title: string (nullable = true)\n",
      " |-- fuller_name: string (nullable = true)\n",
      " |-- genres: array (nullable = true)\n",
      " |    |-- element: string (containsNull = true)\n",
      " |-- ia_box_id: array (nullable = true)\n",
      " |    |-- element: string (containsNull = true)\n",
      " |-- ia_loaded_id: string (nullable = true)\n",
      " |-- identifiers: struct (nullable = true)\n",
      " |    |-- amazon: array (nullable = true)\n",
      " |    |    |-- element: string (containsNull = true)\n",
      " |    |-- amazon.co.uk_asin: array (nullable = true)\n",
      " |    |    |-- element: string (containsNull = true)\n",
      " |    |-- goodreads: array (nullable = true)\n",
      " |    |    |-- element: string (containsNull = true)\n",
      " |    |-- librarything: array (nullable = true)\n",
      " |    |    |-- element: string (containsNull = true)\n",
      " |-- isbn_10: array (nullable = true)\n",
      " |    |-- element: string (containsNull = true)\n",
      " |-- isbn_13: array (nullable = true)\n",
      " |    |-- element: string (containsNull = true)\n",
      " |-- isbn_invalid: array (nullable = true)\n",
      " |    |-- element: string (containsNull = true)\n",
      " |-- isbn_odd_length: array (nullable = true)\n",
      " |    |-- element: string (containsNull = true)\n",
      " |-- key: string (nullable = true)\n",
      " |-- languages: array (nullable = true)\n",
      " |    |-- element: struct (containsNull = true)\n",
      " |    |    |-- key: string (nullable = true)\n",
      " |-- last_modified: struct (nullable = true)\n",
      " |    |-- type: string (nullable = true)\n",
      " |    |-- value: string (nullable = true)\n",
      " |-- latest_revision: long (nullable = true)\n",
      " |-- lc_classifications: array (nullable = true)\n",
      " |    |-- element: string (containsNull = true)\n",
      " |-- lccn: array (nullable = true)\n",
      " |    |-- element: string (containsNull = true)\n",
      " |-- links: array (nullable = true)\n",
      " |    |-- element: struct (containsNull = true)\n",
      " |    |    |-- title: string (nullable = true)\n",
      " |    |    |-- type: struct (nullable = true)\n",
      " |    |    |    |-- key: string (nullable = true)\n",
      " |    |    |-- url: string (nullable = true)\n",
      " |-- location: string (nullable = true)\n",
      " |-- name: string (nullable = true)\n",
      " |-- notes: string (nullable = true)\n",
      " |-- number_of_pages: long (nullable = true)\n",
      " |-- ocaid: string (nullable = true)\n",
      " |-- oclc_number: array (nullable = true)\n",
      " |    |-- element: string (containsNull = true)\n",
      " |-- oclc_numbers: array (nullable = true)\n",
      " |    |-- element: string (containsNull = true)\n",
      " |-- other_titles: array (nullable = true)\n",
      " |    |-- element: string (containsNull = true)\n",
      " |-- pagination: string (nullable = true)\n",
      " |-- personal_name: string (nullable = true)\n",
      " |-- photos: array (nullable = true)\n",
      " |    |-- element: long (containsNull = true)\n",
      " |-- physical_dimensions: string (nullable = true)\n",
      " |-- physical_format: string (nullable = true)\n",
      " |-- publish_country: string (nullable = true)\n",
      " |-- publish_date: string (nullable = true)\n",
      " |-- publish_places: array (nullable = true)\n",
      " |    |-- element: string (containsNull = true)\n",
      " |-- publishers: array (nullable = true)\n",
      " |    |-- element: string (containsNull = true)\n",
      " |-- purchase_url: array (nullable = true)\n",
      " |    |-- element: string (containsNull = true)\n",
      " |-- revision: long (nullable = true)\n",
      " |-- series: array (nullable = true)\n",
      " |    |-- element: string (containsNull = true)\n",
      " |-- source_records: array (nullable = true)\n",
      " |    |-- element: string (containsNull = true)\n",
      " |-- subject_people: array (nullable = true)\n",
      " |    |-- element: string (containsNull = true)\n",
      " |-- subject_place: array (nullable = true)\n",
      " |    |-- element: string (containsNull = true)\n",
      " |-- subject_places: array (nullable = true)\n",
      " |    |-- element: string (containsNull = true)\n",
      " |-- subject_time: array (nullable = true)\n",
      " |    |-- element: string (containsNull = true)\n",
      " |-- subject_times: array (nullable = true)\n",
      " |    |-- element: string (containsNull = true)\n",
      " |-- subjects: array (nullable = true)\n",
      " |    |-- element: string (containsNull = true)\n",
      " |-- subtitle: string (nullable = true)\n",
      " |-- table_of_contents: array (nullable = true)\n",
      " |    |-- element: struct (containsNull = true)\n",
      " |    |    |-- class: string (nullable = true)\n",
      " |    |    |-- label: string (nullable = true)\n",
      " |    |    |-- level: long (nullable = true)\n",
      " |    |    |-- pagenum: string (nullable = true)\n",
      " |    |    |-- title: string (nullable = true)\n",
      " |    |    |-- type: string (nullable = true)\n",
      " |    |    |-- value: string (nullable = true)\n",
      " |-- title: string (nullable = true)\n",
      " |-- title_prefix: string (nullable = true)\n",
      " |-- type: struct (nullable = true)\n",
      " |    |-- key: string (nullable = true)\n",
      " |-- uri_descriptions: array (nullable = true)\n",
      " |    |-- element: string (containsNull = true)\n",
      " |-- uris: array (nullable = true)\n",
      " |    |-- element: string (containsNull = true)\n",
      " |-- url: array (nullable = true)\n",
      " |    |-- element: string (containsNull = true)\n",
      " |-- website: string (nullable = true)\n",
      " |-- weight: string (nullable = true)\n",
      " |-- work_title: array (nullable = true)\n",
      " |    |-- element: string (containsNull = true)\n",
      " |-- work_titles: array (nullable = true)\n",
      " |    |-- element: string (containsNull = true)\n",
      " |-- works: array (nullable = true)\n",
      " |    |-- element: struct (containsNull = true)\n",
      " |    |    |-- key: string (nullable = true)\n",
      "\n"
     ]
    }
   ],
   "source": [
    "base_df.printSchema()"
   ]
  },
  {
   "cell_type": "markdown",
   "id": "8a927ba6",
   "metadata": {},
   "source": [
    "# Data profiling"
   ]
  },
  {
   "cell_type": "code",
   "execution_count": 46,
   "id": "f96e6db5",
   "metadata": {},
   "outputs": [],
   "source": [
    "## Merging Similar columns including authors which will get used further.\n",
    "base_df = base_df.withColumn('dewey_number',coalesce('dewey_decimal_class','dewey_number')).\\\n",
    "withColumn('oclc_number',coalesce('oclc_number','oclc_numbers')).\\\n",
    "withColumn('subject_time',coalesce('subject_time','subject_times')).\\\n",
    "withColumn('work_title',coalesce('work_title','work_titles')).\\\n",
    "withColumn('publish_date',coalesce('publish_date','first_publish_date')).\\\n",
    "withColumn('authors', coalesce('authors.key','authors.author.key')).\\\n",
    "drop('dewey_decimal_class','oclc_numbers','subject_times','work_titles','first_publish_date')"
   ]
  },
  {
   "cell_type": "code",
   "execution_count": 47,
   "id": "46d8642f",
   "metadata": {},
   "outputs": [],
   "source": [
    "### Trimming Title to remove extra spaces\n",
    "### Extracting date value for last_modified_datetime\n",
    "### Extracting publish year which will be used to filter.\n",
    "base_df = base_df.withColumn('title',trim('title')).\\\n",
    "withColumn('last_modified_datetime',to_timestamp(base_df['last_modified.value'])).drop('last_modified').\\\n",
    "withColumn('publish_year',regexp_extract('publish_date', r'(\\d{4})', 1))\n",
    "#withColumn('authors', regexp_replace('authors', '/authors/', '')).\\\n",
    "#withColumn('authors',split(col('authors'),','))"
   ]
  },
  {
   "cell_type": "code",
   "execution_count": 48,
   "id": "14de74e2",
   "metadata": {},
   "outputs": [],
   "source": [
    "schema = StructType([StructField(\"type\", StringType(), True),\n",
    "                    StructField(\"value\", StringType(), True)]\n",
    "                    )"
   ]
  },
  {
   "cell_type": "code",
   "execution_count": 49,
   "id": "c212cd11",
   "metadata": {},
   "outputs": [],
   "source": [
    "##Extracting values from key, value data strings.\n",
    "base_df = base_df.withColumn('description',when(col('description').startswith('{\"type\":'),from_json(base_df['description'],schema)['value']).otherwise(col('description'))).\\\n",
    "withColumn('first_sentence',when(col('first_sentence').startswith('{\"type\":'),from_json(base_df['first_sentence'],schema)['value']).otherwise(col('first_sentence'))).\\\n",
    "withColumn('notes',when(col('notes').startswith('{\"type\":'),from_json(base_df['notes'],schema)['value']).otherwise(col('notes'))).\\\n",
    "withColumn('bio',when(col('bio').startswith('{\"type\":'),from_json(base_df['bio'],schema)['value']).otherwise(col('bio')))"
   ]
  },
  {
   "cell_type": "code",
   "execution_count": 50,
   "id": "fe1b6a1f",
   "metadata": {},
   "outputs": [],
   "source": [
    "###All these fields mostly have Null values (Not Required). \n",
    "base_df = base_df.drop('full_title','fuller_name','ia_box_id', 'ia_loaded_id', 'isbn_invalid', 'isbn_odd_length', 'website')"
   ]
  },
  {
   "cell_type": "code",
   "execution_count": 51,
   "id": "999cb2c5",
   "metadata": {},
   "outputs": [],
   "source": [
    "###Filtering data publish year from 1950 to current year.\n",
    "base_df = base_df.filter((col('publish_year') <= lit(year(current_date()))) & (col('publish_year') >= lit('1950')))"
   ]
  },
  {
   "cell_type": "code",
   "execution_count": 52,
   "id": "aeff89d9",
   "metadata": {},
   "outputs": [
    {
     "name": "stdout",
     "output_type": "stream",
     "text": [
      "Number of rows in filtered data set : 99693\n"
     ]
    }
   ],
   "source": [
    "print('Number of rows in filtered data set : '+ str(base_df.count()))"
   ]
  },
  {
   "cell_type": "markdown",
   "id": "2bf6407d",
   "metadata": {},
   "source": [
    "## Book with Most Pages"
   ]
  },
  {
   "cell_type": "code",
   "execution_count": 53,
   "id": "45317c93",
   "metadata": {},
   "outputs": [],
   "source": [
    "w = Window.orderBy(col('number_of_pages').desc())\n",
    "first_df = base_df.select('title','number_of_pages',dense_rank().over(w).alias('page_rank'))"
   ]
  },
  {
   "cell_type": "code",
   "execution_count": 54,
   "id": "2e9352d3",
   "metadata": {
    "scrolled": true
   },
   "outputs": [
    {
     "name": "stdout",
     "output_type": "stream",
     "text": [
      "+-----------------------------+---------------+\n",
      "|title                        |number_of_pages|\n",
      "+-----------------------------+---------------+\n",
      "|Nihon shokuminchi kenchikuron|48418          |\n",
      "+-----------------------------+---------------+\n",
      "\n"
     ]
    }
   ],
   "source": [
    "first_df.filter(col('page_rank') == 1).select('title','number_of_pages').show(9,False)"
   ]
  },
  {
   "cell_type": "markdown",
   "id": "e9fc0f91",
   "metadata": {},
   "source": [
    "# Top 5 genres"
   ]
  },
  {
   "cell_type": "code",
   "execution_count": 55,
   "id": "6e1a4c96",
   "metadata": {},
   "outputs": [],
   "source": [
    "second_df = base_df.select('title',explode('genres').alias('genres'))"
   ]
  },
  {
   "cell_type": "code",
   "execution_count": 56,
   "id": "4607c694",
   "metadata": {},
   "outputs": [],
   "source": [
    "second_df = second_df.select('title',trim(regexp_replace('genres', '[^A-Za-z0-9, ]','')).alias('genres'))"
   ]
  },
  {
   "cell_type": "code",
   "execution_count": 57,
   "id": "ddd273ed",
   "metadata": {
    "scrolled": true
   },
   "outputs": [
    {
     "name": "stdout",
     "output_type": "stream",
     "text": [
      "+-------------------+----------+\n",
      "|genres             |book_count|\n",
      "+-------------------+----------+\n",
      "|Fiction            |4319      |\n",
      "|Biography          |3145      |\n",
      "|Juvenile literature|2403      |\n",
      "|Exhibitions        |1652      |\n",
      "|Juvenile fiction   |912       |\n",
      "+-------------------+----------+\n",
      "only showing top 5 rows\n",
      "\n"
     ]
    }
   ],
   "source": [
    "second_df.groupBy('genres').\\\n",
    "agg(count('title').alias('book_count')).\\\n",
    "orderBy(col('book_count').desc()).\\\n",
    "show(5,False)"
   ]
  },
  {
   "cell_type": "markdown",
   "id": "8094ff15",
   "metadata": {},
   "source": [
    "# Top 5 authors who (co-)authored  most books"
   ]
  },
  {
   "cell_type": "code",
   "execution_count": 58,
   "id": "a9949ae0",
   "metadata": {},
   "outputs": [],
   "source": [
    "third_df = base_df.select('title','authors')"
   ]
  },
  {
   "cell_type": "code",
   "execution_count": 59,
   "id": "1b3dae3d",
   "metadata": {},
   "outputs": [],
   "source": [
    "##This df will have list of all the authors who have co-authored\n",
    "third_df = third_df.filter(size('authors') > 1)"
   ]
  },
  {
   "cell_type": "code",
   "execution_count": 60,
   "id": "2bc33d23",
   "metadata": {},
   "outputs": [],
   "source": [
    "third_df = third_df.select('title',explode('authors').alias('authors'))"
   ]
  },
  {
   "cell_type": "code",
   "execution_count": 61,
   "id": "6aaa543f",
   "metadata": {},
   "outputs": [
    {
     "name": "stdout",
     "output_type": "stream",
     "text": [
      "+-------------------+----------+\n",
      "|authors            |book_count|\n",
      "+-------------------+----------+\n",
      "|/authors/OL3246797A|47        |\n",
      "|/authors/OL2756622A|13        |\n",
      "|/authors/OL1901196A|12        |\n",
      "|/authors/OL1660476A|10        |\n",
      "|/authors/OL2838553A|7         |\n",
      "+-------------------+----------+\n",
      "only showing top 5 rows\n",
      "\n"
     ]
    }
   ],
   "source": [
    "third_df.groupBy('authors').\\\n",
    "agg(count('title').alias('book_count')).\\\n",
    "orderBy(col('book_count').desc()).\\\n",
    "show(5,False)"
   ]
  },
  {
   "cell_type": "markdown",
   "id": "5b85b37a",
   "metadata": {},
   "source": [
    "# Number of authors that published at least one book. (By Publish Year)"
   ]
  },
  {
   "cell_type": "code",
   "execution_count": 62,
   "id": "88ce0d2f",
   "metadata": {},
   "outputs": [],
   "source": [
    "fourth_df = base_df.select('publish_year',explode('authors').alias('authors')).distinct()"
   ]
  },
  {
   "cell_type": "code",
   "execution_count": 63,
   "id": "976e9def",
   "metadata": {
    "scrolled": true
   },
   "outputs": [
    {
     "name": "stdout",
     "output_type": "stream",
     "text": [
      "+------------+-------------+\n",
      "|publish_year|no_of_authors|\n",
      "+------------+-------------+\n",
      "|2013        |2            |\n",
      "|2011        |1            |\n",
      "|2010        |295          |\n",
      "|2009        |2664         |\n",
      "|2008        |4198         |\n",
      "|2007        |2549         |\n",
      "|2006        |1425         |\n",
      "|2005        |1479         |\n",
      "|2004        |1562         |\n",
      "|2003        |1598         |\n",
      "|2002        |1189         |\n",
      "|2001        |979          |\n",
      "|2000        |1194         |\n",
      "|1999        |1458         |\n",
      "|1998        |2203         |\n",
      "|1997        |2821         |\n",
      "|1996        |2401         |\n",
      "|1995        |2786         |\n",
      "|1994        |2494         |\n",
      "|1993        |2235         |\n",
      "|1992        |2192         |\n",
      "|1991        |1952         |\n",
      "|1990        |2000         |\n",
      "|1989        |1760         |\n",
      "|1988        |1595         |\n",
      "|1987        |1469         |\n",
      "|1986        |1418         |\n",
      "|1985        |1339         |\n",
      "|1984        |1307         |\n",
      "|1983        |1215         |\n",
      "|1982        |1145         |\n",
      "|1981        |1068         |\n",
      "|1980        |1137         |\n",
      "|1979        |1044         |\n",
      "|1978        |957          |\n",
      "|1977        |939          |\n",
      "|1976        |1121         |\n",
      "|1975        |1260         |\n",
      "|1974        |1418         |\n",
      "|1973        |1477         |\n",
      "|1972        |1320         |\n",
      "|1971        |1383         |\n",
      "|1970        |1481         |\n",
      "|1969        |1557         |\n",
      "|1968        |1407         |\n",
      "|1967        |1547         |\n",
      "|1966        |1522         |\n",
      "|1965        |1495         |\n",
      "|1964        |1464         |\n",
      "|1963        |1307         |\n",
      "|1962        |1276         |\n",
      "|1961        |1227         |\n",
      "|1960        |1108         |\n",
      "|1959        |969          |\n",
      "|1958        |902          |\n",
      "|1957        |833          |\n",
      "|1956        |757          |\n",
      "|1955        |701          |\n",
      "|1954        |741          |\n",
      "|1953        |683          |\n",
      "|1952        |690          |\n",
      "|1951        |741          |\n",
      "|1950        |716          |\n",
      "+------------+-------------+\n",
      "\n"
     ]
    }
   ],
   "source": [
    "fourth_df.groupBy('publish_year').\\\n",
    "agg(count('authors').alias('no_of_authors')).\\\n",
    "orderBy(col('publish_year').desc()).\\\n",
    "show(9999,False)"
   ]
  },
  {
   "cell_type": "markdown",
   "id": "df2b9929",
   "metadata": {},
   "source": [
    "# Number of authors and number of books published per month for years between 1950 and 1970"
   ]
  },
  {
   "cell_type": "code",
   "execution_count": 64,
   "id": "6e34980a",
   "metadata": {},
   "outputs": [],
   "source": [
    "fifth_df = base_df.filter((col('publish_year') >= lit('1950')) & (col('publish_year') <= lit('1970'))).\\\n",
    "select(explode('authors').alias('authors'),'title','publish_year','publish_date')"
   ]
  },
  {
   "cell_type": "code",
   "execution_count": 65,
   "id": "6c89ae8b",
   "metadata": {},
   "outputs": [],
   "source": [
    "fifth_df = fifth_df.withColumn('publish_month', regexp_extract('publish_date',r'([A-Z][a-z]+)', 1))"
   ]
  },
  {
   "cell_type": "code",
   "execution_count": 66,
   "id": "ff731f6a",
   "metadata": {},
   "outputs": [],
   "source": [
    "fifth_df = fifth_df.filter(~(col('publish_month') == lit('')))"
   ]
  },
  {
   "cell_type": "code",
   "execution_count": 67,
   "id": "4b9b5ce8",
   "metadata": {},
   "outputs": [
    {
     "name": "stdout",
     "output_type": "stream",
     "text": [
      "+---------------+-------+-----+\n",
      "|month_year     |authors|books|\n",
      "+---------------+-------+-----+\n",
      "|December 1958  |0      |1    |\n",
      "|December 1962  |2      |1    |\n",
      "|December 1968  |1      |1    |\n",
      "|January 1960   |1      |1    |\n",
      "|January 1969   |1      |1    |\n",
      "|January 1970   |1      |1    |\n",
      "|July 1963      |1      |1    |\n",
      "|July 1968      |1      |1    |\n",
      "|June 1954      |1      |1    |\n",
      "|June 1955      |1      |1    |\n",
      "|June 1958      |2      |1    |\n",
      "|June 1960      |2      |2    |\n",
      "|June 1962      |2      |1    |\n",
      "|June 1964      |3      |3    |\n",
      "|June 1965      |4      |2    |\n",
      "|June 1967      |1      |1    |\n",
      "|June 1968      |5      |4    |\n",
      "|June 1969      |3      |2    |\n",
      "|June 1970      |3      |2    |\n",
      "|March 1970     |1      |1    |\n",
      "|May 1964       |1      |1    |\n",
      "|May 1966       |1      |1    |\n",
      "|May 1968       |1      |1    |\n",
      "|November 1966  |1      |1    |\n",
      "|October 1953   |1      |1    |\n",
      "|October 1961   |1      |1    |\n",
      "|October 1969   |2      |2    |\n",
      "|September 1957 |1      |1    |\n",
      "|September 1963 |1      |1    |\n",
      "|Septiembre 1962|1      |1    |\n",
      "+---------------+-------+-----+\n",
      "\n"
     ]
    }
   ],
   "source": [
    "fifth_df.groupBy(concat_ws(' ','publish_month','publish_year').alias('month_year')).\\\n",
    "agg(countDistinct('authors').alias('authors'),countDistinct('title').alias('books')).\\\n",
    "orderBy(concat_ws(' ','publish_month','publish_year')).show(99,False)"
   ]
  },
  {
   "cell_type": "code",
   "execution_count": null,
   "id": "6b35b934",
   "metadata": {},
   "outputs": [],
   "source": [
    "#fifth_df.filter((col('publish_year') == lit('1965')) & (col('publish_month') == lit('June'))).show(4,False)"
   ]
  },
  {
   "cell_type": "code",
   "execution_count": null,
   "id": "b9af8605",
   "metadata": {},
   "outputs": [],
   "source": []
  }
 ],
 "metadata": {
  "kernelspec": {
   "display_name": "Python 3",
   "language": "python",
   "name": "python3"
  },
  "language_info": {
   "codemirror_mode": {
    "name": "ipython",
    "version": 3
   },
   "file_extension": ".py",
   "mimetype": "text/x-python",
   "name": "python",
   "nbconvert_exporter": "python",
   "pygments_lexer": "ipython3",
   "version": "3.6.5"
  }
 },
 "nbformat": 4,
 "nbformat_minor": 5
}
